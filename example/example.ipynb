{
 "cells": [
  {
   "cell_type": "markdown",
   "id": "4e72415a",
   "metadata": {},
   "source": [
    "### Example Project"
   ]
  },
  {
   "cell_type": "code",
   "execution_count": 20,
   "id": "8a217dc0",
   "metadata": {},
   "outputs": [],
   "source": [
    "# Import major functions from CyberpunK_manim\n",
    "from CyberpunK_manim import render_and_extract, add_animation, get_pptx_presentation\n",
    "\n",
    "prs = get_pptx_presentation()\n",
    "\n",
    "# Add a cover slide\n",
    "cover = prs.slides[0]\n",
    "cover.shapes.title.text = 'Cover Slide Title'\n",
    "cover.shapes.placeholders[1].text = 'Cover Slide Content'\n",
    "\n",
    "# Add a bullet slide\n",
    "bullet_slide_layout = prs.slide_layouts[1]\n",
    "slide = prs.slides.add_slide(bullet_slide_layout)\n",
    "shapes = slide.shapes\n",
    "title_shape = shapes.title\n",
    "body_shape = shapes.placeholders[1]\n",
    "title_shape.text = 'Adding a Bullet Slide'\n",
    "tf = body_shape.text_frame\n",
    "tf.text = 'Find the bullet slide layout'\n",
    "p = tf.add_paragraph()\n",
    "p.text = 'Use _TextFrame.text for first bullet'\n",
    "p.level = 1\n",
    "p = tf.add_paragraph()\n",
    "p.text = 'Use _TextFrame.add_paragraph() for subsequent bullets'\n",
    "p.level = 2"
   ]
  },
  {
   "cell_type": "code",
   "execution_count": 21,
   "id": "73cae473",
   "metadata": {},
   "outputs": [
    {
     "name": "stdout",
     "output_type": "stream",
     "text": [
      "Running: manim-slides render animation.py BasicExample BasicExample2\n"
     ]
    },
    {
     "name": "stderr",
     "output_type": "stream",
     "text": [
      "                                                                                 \r"
     ]
    }
   ],
   "source": [
    "# Get animation videos from render_and_extract\n",
    "videos = render_and_extract(\n",
    "    scene_file=\"animation.py\",\n",
    "    scene_name=[\"BasicExample\", \"BasicExample2\"]\n",
    ")"
   ]
  },
  {
   "cell_type": "code",
   "execution_count": 23,
   "id": "90ecf86e",
   "metadata": {},
   "outputs": [],
   "source": [
    "# Add each video to a new blank slide and embed as movie\n",
    "blank_slide_layout = prs.slide_layouts[1]\n",
    "for video in videos:\n",
    "    anim_slide = prs.slides.add_slide(blank_slide_layout)\n",
    "    add_animation(anim_slide, video, prs.slide_width*31/64, prs.slide_width/8, prs.slide_width/2, prs.slide_height/2)"
   ]
  },
  {
   "cell_type": "code",
   "execution_count": 24,
   "id": "e3f8e51b",
   "metadata": {},
   "outputs": [],
   "source": [
    "# Save the presentation\n",
    "prs.save('example.pptx')"
   ]
  }
 ],
 "metadata": {
  "kernelspec": {
   "display_name": "manim-community",
   "language": "python",
   "name": "python3"
  },
  "language_info": {
   "codemirror_mode": {
    "name": "ipython",
    "version": 3
   },
   "file_extension": ".py",
   "mimetype": "text/x-python",
   "name": "python",
   "nbconvert_exporter": "python",
   "pygments_lexer": "ipython3",
   "version": "3.12.11"
  }
 },
 "nbformat": 4,
 "nbformat_minor": 5
}
