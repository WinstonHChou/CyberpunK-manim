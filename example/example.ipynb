{
 "cells": [
  {
   "cell_type": "markdown",
   "id": "4e72415a",
   "metadata": {},
   "source": [
    "### Example Project"
   ]
  },
  {
   "cell_type": "code",
   "execution_count": 1,
   "id": "8a217dc0",
   "metadata": {},
   "outputs": [],
   "source": [
    "# Import major functions from CyberpunK_manim\n",
    "from CyberpunK_manim import Color, render_and_extract, add_animation, get_pptx_presentation\n",
    "\n",
    "prs = get_pptx_presentation()\n",
    "\n",
    "# Add a cover slide\n",
    "cover = prs.slides[0]\n",
    "cover_layout = cover.slide_layout\n",
    "cover.shapes.title.text = 'Cover Slide Title'\n",
    "# cover.shapes.placeholders[1].text = 'Cover Slide Content'\n",
    "cover_subtitle = cover.shapes.placeholders[1].text_frame.paragraphs[0].add_run()\n",
    "cover_subtitle.text = 'Cover Slide Content'\n",
    "cover_subtitle.font.bold = False\n",
    "cover_subtitle.font.color.rgb = Color.CK_LIGHT_BLUE\n",
    "\n",
    "# Add a bullet slide\n",
    "bullet_slide_layout = prs.slide_layouts[1]\n",
    "slide = prs.slides.add_slide(bullet_slide_layout)\n",
    "shapes = slide.shapes\n",
    "title_shape = shapes.title\n",
    "body_shape = shapes.placeholders[1]\n",
    "title_shape.text = 'Adding a Bullet Slide'\n",
    "tf = body_shape.text_frame\n",
    "tf.text = 'Find the bullet slide layout'\n",
    "p = tf.add_paragraph()\n",
    "p.text = 'Use _TextFrame.text for first bullet'\n",
    "p.level = 1\n",
    "p = tf.add_paragraph()\n",
    "p.text = 'Use _TextFrame.add_paragraph() for subsequent bullets'\n",
    "p.level = 2"
   ]
  },
  {
   "cell_type": "code",
   "execution_count": 3,
   "id": "73cae473",
   "metadata": {},
   "outputs": [
    {
     "name": "stdout",
     "output_type": "stream",
     "text": [
      "Running: manim-slides render animation.py BasicExample BasicExample2\n",
      "Manim Community v0.19.0\n",
      "\n",
      "[08/28/25 00:45:17] INFO     Animation 0 : Using cached    cairo_renderer.py:89\n",
      "                             data (hash :                                      \n",
      "                             3977891868_2958499242_2231324                     \n",
      "                             57)                                               \n",
      "[08/28/25 00:45:18] INFO     Animation 1 : Using cached    cairo_renderer.py:89\n",
      "                             data (hash :                                      \n",
      "                             2852726489_2423972804_2446856                     \n",
      "                             078)                                              \n",
      "                    INFO     Animation 2 : Using cached    cairo_renderer.py:89\n",
      "                             data (hash :                                      \n",
      "                             2852726489_1346488509_1311452                     \n",
      "                             279)                                              \n",
      "                    INFO     Combining to Movie file.  scene_file_writer.py:739\n",
      "                    INFO                               scene_file_writer.py:886\n",
      "                             File ready at                                     \n",
      "                             'C:\\Users\\Winston\\Documen                         \n",
      "                             ts\\GitHub\\manim_ws\\Cyberp                         \n",
      "                             unK-manim\\example\\media\\v                         \n",
      "                             ideos\\animation\\1080p60\\B                         \n",
      "                             asicExample.mp4'                                  \n",
      "                                                                               \n",
      "                    INFO     Rendered BasicExample                 scene.py:255\n",
      "                             Played 3 animations                               \n",
      "[08/28/25 00:45:18] INFO     Generated 3 slides to                  base.py:599\n",
      "                             'c:\\Users\\Winston\\Documents\\GitHub\\man            \n",
      "                             im_ws\\CyberpunK-manim\\example\\slides\\f            \n",
      "                             iles\\BasicExample'                                \n",
      "                    INFO     Generated 3 slides to                  base.py:599\n",
      "                             'c:\\Users\\Winston\\Documents\\GitHub\\man            \n",
      "                             im_ws\\CyberpunK-manim\\example\\slides\\f            \n",
      "                             iles\\BasicExample'                                \n",
      "                    INFO     Slide 'BasicExample' configuration     base.py:611\n",
      "                             written in                                        \n",
      "                             'c:\\Users\\Winston\\Documents\\GitHub\\man            \n",
      "                             im_ws\\CyberpunK-manim\\example\\slides\\B            \n",
      "                             asicExample.json'                                 \n",
      "                    INFO     Slide 'BasicExample' configuration     base.py:611\n",
      "                             written in                                        \n",
      "                             'c:\\Users\\Winston\\Documents\\GitHub\\man            \n",
      "                             im_ws\\CyberpunK-manim\\example\\slides\\B            \n",
      "                             asicExample.json'                                 \n",
      "                    INFO     Animation 0 : Using cached    cairo_renderer.py:89\n",
      "                             data (hash :                                      \n",
      "                             3977891868_2631387112_2231324                     \n",
      "                             57)                                               \n",
      "                    INFO     Animation 1 : Using cached    cairo_renderer.py:89\n",
      "                             data (hash :                                      \n",
      "                             2852726489_2619426269_5578804                     \n",
      "                             37)                                               \n",
      "                    INFO     Animation 2 : Using cached    cairo_renderer.py:89\n",
      "                             data (hash :                                      \n",
      "                             2852726489_2956010123_5578804                     \n",
      "                             37)                                               \n",
      "                    INFO     Combining to Movie file.  scene_file_writer.py:739\n",
      "                    INFO                               scene_file_writer.py:886\n",
      "                             File ready at                                     \n",
      "                             'C:\\Users\\Winston\\Documen                         \n",
      "                             ts\\GitHub\\manim_ws\\Cyberp                         \n",
      "                             unK-manim\\example\\media\\v                         \n",
      "                             ideos\\animation\\1080p60\\B                         \n",
      "                             asicExample2.mp4'                                 \n",
      "                                                                               \n",
      "                    INFO     Rendered BasicExample2                scene.py:255\n",
      "                             Played 3 animations                               \n",
      "                    INFO     Generated 2 slides to                  base.py:599\n",
      "                             'c:\\Users\\Winston\\Documents\\GitHub\\man            \n",
      "                             im_ws\\CyberpunK-manim\\example\\slides\\f            \n",
      "                             iles\\BasicExample2'                               \n",
      "                    INFO     Generated 2 slides to                  base.py:599\n",
      "                             'c:\\Users\\Winston\\Documents\\GitHub\\man            \n",
      "                             im_ws\\CyberpunK-manim\\example\\slides\\f            \n",
      "                             iles\\BasicExample2'                               \n",
      "                    INFO     Slide 'BasicExample2' configuration    base.py:611\n",
      "                             written in                                        \n",
      "                             'c:\\Users\\Winston\\Documents\\GitHub\\man            \n",
      "                             im_ws\\CyberpunK-manim\\example\\slides\\B            \n",
      "                             asicExample2.json'                                \n",
      "                    INFO     Slide 'BasicExample2' configuration    base.py:611\n",
      "                             written in                                        \n",
      "                             'c:\\Users\\Winston\\Documents\\GitHub\\man            \n",
      "                             im_ws\\CyberpunK-manim\\example\\slides\\B            \n",
      "                             asicExample2.json'                                \n"
     ]
    },
    {
     "name": "stderr",
     "output_type": "stream",
     "text": [
      "C:\\Users\\Winston\\miniforge3\\envs\\manim-community\\Lib\\site-packages\\pydub\\utils.py:170: RuntimeWarning: Couldn't find ffmpeg or avconv - defaulting to ffmpeg, but may not work\n",
      "  warn(\"Couldn't find ffmpeg or avconv - defaulting to ffmpeg, but may not work\", RuntimeWarning)\n",
      "<frozen runpy>:128: RuntimeWarning: 'manim.__main__' found in sys.modules after import of package 'manim', but prior to execution of 'manim.__main__'; this may result in unpredictable behaviour\n",
      "\n",
      "Animation 0: GrowFromCenter(Circle):   0%|          | 0/1 [00:00<?, ?it/s]\n",
      "                                                                          \n",
      "\n",
      "Animation 1: MoveAlongPath(Dot):   0%|          | 0/1 [00:00<?, ?it/s]\n",
      "                                                                      \n",
      "\n",
      "Animation 2: _MethodAnimation(Dot):   0%|          | 0/1 [00:00<?, ?it/s]\n",
      "                                                                         \n",
      "\n",
      "Concatenating animations to 'slides\\files\\BasicExample' and generating reversed animations:   0%|          | 0/3 [00:00<?, ? slides/s]\n",
      "                                                                                                                                      \n",
      "\n",
      "Animation 0: Create(Square):   0%|          | 0/1 [00:00<?, ?it/s]\n",
      "                                                                  \n",
      "\n",
      "Animation 1: Transform(Square):   0%|          | 0/1 [00:00<?, ?it/s]\n",
      "                                                                     \n",
      "\n",
      "Animation 2: FadeOut(Square):   0%|          | 0/1 [00:00<?, ?it/s]\n",
      "                                                                   \n",
      "\n",
      "Concatenating animations to 'slides\\files\\BasicExample2' and generating reversed animations:   0%|          | 0/2 [00:00<?, ? slides/s]\n",
      "                                                                                                                                       \n"
     ]
    },
    {
     "name": "stdout",
     "output_type": "stream",
     "text": [
      "Subprocess exited with code: 0\n"
     ]
    },
    {
     "name": "stderr",
     "output_type": "stream",
     "text": [
      "                                                                                 \r"
     ]
    }
   ],
   "source": [
    "# Get animation videos from render_and_extract\n",
    "videos = render_and_extract(\n",
    "    scene_file=\"animation.py\",\n",
    "    scene_name=[\"BasicExample\", \"BasicExample2\"]\n",
    ")"
   ]
  },
  {
   "cell_type": "code",
   "execution_count": 4,
   "id": "90ecf86e",
   "metadata": {},
   "outputs": [],
   "source": [
    "# Add each video to a new blank slide and embed as movie\n",
    "blank_slide_layout = prs.slide_layouts[1]\n",
    "for video in videos:\n",
    "    anim_slide = prs.slides.add_slide(blank_slide_layout)\n",
    "    add_animation(anim_slide, video, prs.slide_width*31/64, prs.slide_width/8, prs.slide_width/2, prs.slide_height/2)"
   ]
  },
  {
   "cell_type": "code",
   "execution_count": 5,
   "id": "e3f8e51b",
   "metadata": {},
   "outputs": [],
   "source": [
    "# Save the presentation\n",
    "prs.save('example.pptx')"
   ]
  }
 ],
 "metadata": {
  "kernelspec": {
   "display_name": "manim-community",
   "language": "python",
   "name": "python3"
  },
  "language_info": {
   "codemirror_mode": {
    "name": "ipython",
    "version": 3
   },
   "file_extension": ".py",
   "mimetype": "text/x-python",
   "name": "python",
   "nbconvert_exporter": "python",
   "pygments_lexer": "ipython3",
   "version": "3.12.11"
  }
 },
 "nbformat": 4,
 "nbformat_minor": 5
}
